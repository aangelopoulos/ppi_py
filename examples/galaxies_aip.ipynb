{
 "cells": [
  {
   "cell_type": "markdown",
   "id": "5db36929-b470-46a0-a291-facca0846b1c",
   "metadata": {},
   "source": [
    "# Galaxy classification\n",
    "\n",
    "The goal is to determine the demographics of galaxies with spiral arms, which are correlated with star formation in the discs of low-redshift galaxies, and therefore, contribute to the understanding of star formation in the Local Universe. A large citizen science initiative called Galaxy Zoo 2 (1) has collected human annotations of roughly 300000 images of galaxies from the Sloan Digital Sky Survey (2) with the goal of measuring these demographics. The target of inference is the fraction of galaxies with spiral arms. This notebook shows that prediction-powered inference allows for a decrease in the requisite number of human-annotated galaxies by imputing labels via computer vision.\n",
    "\n",
    "1. K. W. Willett,  C. J. Lintott,  S. P. Bamford,  K. L. Masters, B. D. Simmons,  K. R. V. Casteels,  E. M. Edmondson,  L. F. Fortson, S. Kaviraj,  W. C. Keel, T. Melvin, R. C. Nichol, M. J. Raddick, K. Schawinski, R. J. Simpson, R. A. Skibba, A. M. Smith, D. Thomas, Galaxy Zoo 2: detailed morphological classifications for 304 122 galaxies from the Sloan Digital Sky Survey. Monthly Notices of the Royal Astronomical Society 435(4), 2835–2860 (2013).\n",
    "2. D. G. York, J. Adelman, J. E. Anderson Jr, S. F. Anderson, J. Annis, N. A. Bahcall, …, N. Yasuda, The Sloan digital sky survey: Technical summary. The Astronomical Journal 120(3), 1579 (2000)."
   ]
  },
  {
   "cell_type": "markdown",
   "id": "c8248171-8a76-461a-a31a-2d4604f02b10",
   "metadata": {},
   "source": [
    "### Import necessary packages"
   ]
  },
  {
   "cell_type": "code",
   "execution_count": 1,
   "id": "806c9b57-90d0-41ca-a2e0-6b88d171225d",
   "metadata": {},
   "outputs": [],
   "source": [
    "%load_ext autoreload\n",
    "%autoreload 2\n",
    "import os, sys\n",
    "\n",
    "sys.path.append(os.path.abspath(os.path.join(os.getcwd(), os.pardir)))\n",
    "import numpy as np\n",
    "import pandas as pd\n",
    "from ppi_py.datasets import load_dataset\n",
    "from ppi_py import (\n",
    "    classical_mean_ci,\n",
    "    sample_ai_posterior,\n",
    "    calibrate_dp_alpha_empirical_coverage_estimate,\n",
    ")\n",
    "\n",
    "from tqdm.auto import tqdm\n",
    "from aip_utils import *"
   ]
  },
  {
   "cell_type": "markdown",
   "id": "5cf90ae6",
   "metadata": {},
   "source": [
    "### Import the galaxies data set\n",
    "\n",
    "Load the data. The data set contains human-annotated labels indicating whether the galaxy has spiral arms (```Y```) and corresponding predicted labels based on computer vision (```Yhat```)."
   ]
  },
  {
   "cell_type": "code",
   "execution_count": 2,
   "id": "a6da3138",
   "metadata": {},
   "outputs": [
    {
     "name": "stdout",
     "output_type": "stream",
     "text": [
      "Dataset galaxies not found at location ./data/; downloading now...\n"
     ]
    },
    {
     "name": "stderr",
     "output_type": "stream",
     "text": [
      "Downloading...\n",
      "From: https://drive.google.com/uc?id=1pDLQesPhbH5fSZW1m4aWC-wnJWnp1rGV\n",
      "To: /Users/seanohagan/projects/for-tijana-temp/ppi_py/examples/data/galaxies.npz\n",
      "100%|██████████| 268k/268k [00:00<00:00, 2.96MB/s]\n"
     ]
    }
   ],
   "source": [
    "dataset_folder = \"./data/\"\n",
    "data = load_dataset(dataset_folder, \"galaxies\")\n",
    "Y_total = data[\"Y\"]\n",
    "Yhat_total = data[\"Yhat\"]"
   ]
  },
  {
   "cell_type": "markdown",
   "id": "8969f9db",
   "metadata": {},
   "source": [
    "### Problem setup\n",
    "\n",
    "Specify the error level (```alpha```), range of values for the labeled data set size (```ns```), and number of trials (```num_trials```).\n",
    "\n",
    "Compute the ground-truth value of the estimand."
   ]
  },
  {
   "cell_type": "code",
   "execution_count": 3,
   "id": "5b3c8f29",
   "metadata": {},
   "outputs": [],
   "source": [
    "alpha = 0.1\n",
    "n_total = Y_total.shape[0]  # Total number of labeled examples\n",
    "ns = np.linspace(50, 1000, 10).astype(\n",
    "    int\n",
    ")  # Test for different numbers of labeled examples\n",
    "num_trials = 5\n",
    "\n",
    "# True mean (computed on all labels)\n",
    "true_theta = Y_total.mean()"
   ]
  },
  {
   "cell_type": "markdown",
   "id": "f0d0322d",
   "metadata": {},
   "source": [
    "### Define loss function\n",
    "\n",
    "We define the loss `squared_error` which we use to do inference on the mean."
   ]
  },
  {
   "cell_type": "code",
   "execution_count": 4,
   "id": "0e65423b",
   "metadata": {},
   "outputs": [],
   "source": [
    "def squared_loss(y, theta):\n",
    "    \"\"\"Squared loss for mean estimation\"\"\"\n",
    "    return (y - theta) ** 2"
   ]
  },
  {
   "cell_type": "markdown",
   "id": "83ce18be",
   "metadata": {},
   "source": [
    "### Construct intervals\n",
    "\n",
    "Form confidence intervals for all methods and problem parameters. A dataframe with the following columns is formed:\n",
    "1. ```method``` (one of ```PPI```, ```Classical```, and ```Imputation```)\n",
    "2. ```n``` (labeled data set size, takes values in ```ns```)\n",
    "3. ```lower``` (lower endpoint of the confidence interval)\n",
    "4. ```upper``` (upper endpoint of the confidence interval)\n",
    "5. ```trial``` (index of trial, goes from ```0``` to ```num_trials-1```)"
   ]
  },
  {
   "cell_type": "code",
   "execution_count": 5,
   "id": "812f8fd5",
   "metadata": {},
   "outputs": [
    {
     "data": {
      "application/vnd.jupyter.widget-view+json": {
       "model_id": "a941aba2a9d24c778a5d38015d40acee",
       "version_major": 2,
       "version_minor": 0
      },
      "text/plain": [
       "  0%|          | 0/10 [00:00<?, ?it/s]"
      ]
     },
     "metadata": {},
     "output_type": "display_data"
    }
   ],
   "source": [
    "# Run AI-powered Bayesian inference and classical inference for many values of n\n",
    "results = []\n",
    "for i in tqdm(range(ns.shape[0])):\n",
    "\n",
    "    dp_alpha = 3.0 * ns[i]\n",
    "\n",
    "    for j in range(num_trials):\n",
    "        # AI-Powered Bayes\n",
    "        n = ns[i]\n",
    "        rand_idx = np.random.permutation(n_total)\n",
    "        _Yhat = Yhat_total[rand_idx[:n]]\n",
    "        _Y = Y_total[rand_idx[:n]]\n",
    "        _Yhat_unlabeled = np.random.binomial(\n",
    "            n=1, p=Yhat_total[rand_idx[n:]], size=len(Yhat_total[rand_idx[n:]])\n",
    "        )\n",
    "\n",
    "        ai_posterior_samples = sample_ai_posterior(\n",
    "            _Y,\n",
    "            squared_loss,\n",
    "            dp_alpha=dp_alpha,\n",
    "            Yhat_unlabeled=_Yhat_unlabeled,\n",
    "            n_samples=1000,\n",
    "            n_jobs=-1,\n",
    "            theta0=np.mean(_Y),\n",
    "        )\n",
    "        ai_posterior_ci = np.quantile(\n",
    "            ai_posterior_samples, [alpha / 2, 1 - (alpha / 2)]\n",
    "        )\n",
    "\n",
    "        # Classical interval\n",
    "        classical_ci = classical_mean_ci(_Y, alpha=alpha)\n",
    "\n",
    "        # Append results\n",
    "        results += [\n",
    "            pd.DataFrame(\n",
    "                [\n",
    "                    {\n",
    "                        \"method\": \"AIP\",\n",
    "                        \"n\": n,\n",
    "                        \"lower\": ai_posterior_ci[0],\n",
    "                        \"upper\": ai_posterior_ci[1],\n",
    "                        \"trial\": j,\n",
    "                    }\n",
    "                ]\n",
    "            )\n",
    "        ]\n",
    "        results += [\n",
    "            pd.DataFrame(\n",
    "                [\n",
    "                    {\n",
    "                        \"method\": \"Classical\",\n",
    "                        \"n\": n,\n",
    "                        \"lower\": classical_ci[0],\n",
    "                        \"upper\": classical_ci[1],\n",
    "                        \"trial\": j,\n",
    "                    }\n",
    "                ]\n",
    "            )\n",
    "        ]\n",
    "\n",
    "# Imputed CI\n",
    "imputed_ci = classical_mean_ci(Yhat_total > 0.5, alpha=alpha)\n",
    "results += [\n",
    "    pd.DataFrame(\n",
    "        [\n",
    "            {\n",
    "                \"method\": \"Imputation\",\n",
    "                \"n\": np.nan,\n",
    "                \"lower\": imputed_ci[0],\n",
    "                \"upper\": imputed_ci[1],\n",
    "                \"trial\": 0,\n",
    "            }\n",
    "        ]\n",
    "    )\n",
    "]\n",
    "\n",
    "df = pd.concat(results, axis=0, ignore_index=True)\n",
    "df[\"width\"] = df[\"upper\"] - df[\"lower\"]"
   ]
  },
  {
   "cell_type": "markdown",
   "id": "d15ba288",
   "metadata": {},
   "source": [
    "### Plot results\n",
    "\n",
    "Plot:\n",
    "1. Five randomly chosen intervals from the dataframe for PPI and the classical method, and the imputed interval;\n",
    "2. The average interval width for PPI and the classical method, together with a scatterplot of the widths from the five random draws."
   ]
  },
  {
   "cell_type": "code",
   "execution_count": 6,
   "id": "6077b2c4",
   "metadata": {},
   "outputs": [
    {
     "data": {
      "image/png": "[encoded data removed]",
      "text/plain": [
       "<Figure size 900x300 with 3 Axes>"
      ]
     },
     "metadata": {},
     "output_type": "display_data"
    }
   ],
   "source": [
    "make_plots(\n",
    "    df,\n",
    "    \"./plots/galaxies.pdf\",\n",
    "    n_idx=3,\n",
    "    intervals_xlabel=\"Fraction of spiral galaxies\",\n",
    "    true_theta=true_theta,\n",
    ")"
   ]
  },
  {
   "cell_type": "markdown",
   "id": "affb506c-56ce-4d44-b8bc-62e64dbeca99",
   "metadata": {},
   "source": [
    "### Calibrating `dp_alpha`\n",
    "\n",
    "For $n=1000$, find the largest value of the concentration parameter `dp_alpha` such that the AI posterior has frequentist coverage of 90%"
   ]
  },
  {
   "cell_type": "code",
   "execution_count": 7,
   "id": "dc025663",
   "metadata": {},
   "outputs": [
    {
     "name": "stdout",
     "output_type": "stream",
     "text": [
      "Calibrating dp_alpha using 10 candidates: [  10.   20.   40.   80.  160.  320.  640. 1280. 2560. 5120.]\n"
     ]
    },
    {
     "data": {
      "application/vnd.jupyter.widget-view+json": {
       "model_id": "f93e8b256aca4d8baa7a8a4e8f68a409",
       "version_major": 2,
       "version_minor": 0
      },
      "text/plain": [
       "Testing alphas:   0%|          | 0/10 [00:00<?, ?it/s]"
      ]
     },
     "metadata": {},
     "output_type": "display_data"
    },
    {
     "data": {
      "application/vnd.jupyter.widget-view+json": {
       "model_id": "155589e4f51f48358904e7cc2a6a4f50",
       "version_major": 2,
       "version_minor": 0
      },
      "text/plain": [
       "Bootstrap (alpha=10.00):   0%|          | 0/100 [00:00<?, ?it/s]"
      ]
     },
     "metadata": {},
     "output_type": "display_data"
    },
    {
     "data": {
      "application/vnd.jupyter.widget-view+json": {
       "model_id": "90426dd2ecfa489eb113f0c61e2c115f",
       "version_major": 2,
       "version_minor": 0
      },
      "text/plain": [
       "Bootstrap (alpha=20.00):   0%|          | 0/100 [00:00<?, ?it/s]"
      ]
     },
     "metadata": {},
     "output_type": "display_data"
    },
    {
     "data": {
      "application/vnd.jupyter.widget-view+json": {
       "model_id": "bf57f46f66ad4560ac7e59d2eddce48f",
       "version_major": 2,
       "version_minor": 0
      },
      "text/plain": [
       "Bootstrap (alpha=40.00):   0%|          | 0/100 [00:00<?, ?it/s]"
      ]
     },
     "metadata": {},
     "output_type": "display_data"
    },
    {
     "data": {
      "application/vnd.jupyter.widget-view+json": {
       "model_id": "f0ba4416babc43959b78696b82c49f3b",
       "version_major": 2,
       "version_minor": 0
      },
      "text/plain": [
       "Bootstrap (alpha=80.00):   0%|          | 0/100 [00:00<?, ?it/s]"
      ]
     },
     "metadata": {},
     "output_type": "display_data"
    },
    {
     "data": {
      "application/vnd.jupyter.widget-view+json": {
       "model_id": "e5e35bd59c944012902be02abc9c7118",
       "version_major": 2,
       "version_minor": 0
      },
      "text/plain": [
       "Bootstrap (alpha=160.00):   0%|          | 0/100 [00:00<?, ?it/s]"
      ]
     },
     "metadata": {},
     "output_type": "display_data"
    },
    {
     "data": {
      "application/vnd.jupyter.widget-view+json": {
       "model_id": "2c4553d08b6b4fd28a53daad09889088",
       "version_major": 2,
       "version_minor": 0
      },
      "text/plain": [
       "Bootstrap (alpha=320.00):   0%|          | 0/100 [00:00<?, ?it/s]"
      ]
     },
     "metadata": {},
     "output_type": "display_data"
    },
    {
     "data": {
      "application/vnd.jupyter.widget-view+json": {
       "model_id": "68fac0b5ff2f4ef48a00dc5962ba09f0",
       "version_major": 2,
       "version_minor": 0
      },
      "text/plain": [
       "Bootstrap (alpha=640.00):   0%|          | 0/100 [00:00<?, ?it/s]"
      ]
     },
     "metadata": {},
     "output_type": "display_data"
    },
    {
     "data": {
      "application/vnd.jupyter.widget-view+json": {
       "model_id": "9f5fb8d7bdd74a9b8fedbbd1e33833d6",
       "version_major": 2,
       "version_minor": 0
      },
      "text/plain": [
       "Bootstrap (alpha=1280.00):   0%|          | 0/100 [00:00<?, ?it/s]"
      ]
     },
     "metadata": {},
     "output_type": "display_data"
    },
    {
     "data": {
      "application/vnd.jupyter.widget-view+json": {
       "model_id": "0c40c3cb266a4818a5188f997f0fa375",
       "version_major": 2,
       "version_minor": 0
      },
      "text/plain": [
       "Bootstrap (alpha=2560.00):   0%|          | 0/100 [00:00<?, ?it/s]"
      ]
     },
     "metadata": {},
     "output_type": "display_data"
    },
    {
     "data": {
      "application/vnd.jupyter.widget-view+json": {
       "model_id": "f4dc104b81fb49d794a4e65747899786",
       "version_major": 2,
       "version_minor": 0
      },
      "text/plain": [
       "Bootstrap (alpha=5120.00):   0%|          | 0/100 [00:00<?, ?it/s]"
      ]
     },
     "metadata": {},
     "output_type": "display_data"
    },
    {
     "name": "stdout",
     "output_type": "stream",
     "text": [
      "Coverage results (dp_alpha: estimated coverage):\n",
      "\n",
      "{10.0: 1.0,\n",
      " 20.0: 1.0,\n",
      " 40.0: 1.0,\n",
      " 80.0: 1.0,\n",
      " 160.0: 1.0,\n",
      " 320.0: 1.0,\n",
      " 640.0: 1.0,\n",
      " 1280.0: 1.0,\n",
      " 2560.0: 1.0,\n",
      " 5120.0: 0.01}\n",
      "\n",
      "Selected alpha=2560.00\n"
     ]
    }
   ],
   "source": [
    "n = 1000\n",
    "rand_idx = np.random.permutation(n_total)\n",
    "Yhat = Yhat_total[rand_idx[:n]]\n",
    "Y = Y_total[rand_idx[:n]]\n",
    "Yhat_unlabeled = np.random.binomial(\n",
    "    n=1, p=Yhat_total[rand_idx[n:]], size=len(Yhat_total[rand_idx[n:]])\n",
    ")\n",
    "\n",
    "# Initial guess for mean\n",
    "theta0 = np.mean(Y)\n",
    "\n",
    "calibrated_dp_alpha = calibrate_dp_alpha_empirical_coverage_estimate(\n",
    "    Y, squared_loss, theta0, 0.9, Yhat_unlabeled, verbose=True\n",
    ")"
   ]
  },
  {
   "cell_type": "markdown",
   "id": "347b46b0",
   "metadata": {},
   "source": [
    "#### Calibration results\n",
    "\n",
    "In this dataset, the imputed predictions when sampling binary labels with probabilities given by the predicted probabilities of the computer vision model `Yhat_unlabeled` are very good (note that they are significantly better than thresholding at 0.5). \n",
    "\n",
    "For this reason, even large values of `dp_alpha` result in valid frequentist coverage."
   ]
  }
 ],
 "metadata": {
  "kernelspec": {
   "display_name": "iqpb",
   "language": "python",
   "name": "python3"
  },
  "language_info": {
   "codemirror_mode": {
    "name": "ipython",
    "version": 3
   },
   "file_extension": ".py",
   "mimetype": "text/x-python",
   "name": "python",
   "nbconvert_exporter": "python",
   "pygments_lexer": "ipython3",
   "version": "3.10.14"
  }
 },
 "nbformat": 4,
 "nbformat_minor": 5
}
